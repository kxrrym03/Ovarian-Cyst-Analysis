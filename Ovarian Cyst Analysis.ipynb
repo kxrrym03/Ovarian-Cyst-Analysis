{
 "cells": [
  {
   "cell_type": "code",
   "execution_count": 3,
   "id": "264beb93-3f68-431e-bc29-9289b57acee1",
   "metadata": {},
   "outputs": [
    {
     "name": "stdout",
     "output_type": "stream",
     "text": [
      "  Patient_ID  Age     Cyst_Type  Initial_Cyst_Size_mm  Final_Cyst_Size_mm  \\\n",
      "0       P001   33  Endometrioma                  18.0                27.5   \n",
      "1       P002   38    Functional                  16.9                25.3   \n",
      "2       P003   44    Functional                  11.8                22.1   \n",
      "3       P004   52    Functional                  29.7                40.7   \n",
      "4       P005   24  Endometrioma                  27.9                40.1   \n",
      "\n",
      "   Months_Observed  Growth_Rate_mm_per_month    Treatment_Type  \\\n",
      "0                6                  1.895335  Hormonal Therapy   \n",
      "1                8                  1.195238  Hormonal Therapy   \n",
      "2                8                  1.462291  Watchful Waiting   \n",
      "3                8                  1.573181  Surgical Removal   \n",
      "4                9                  1.523355  Hormonal Therapy   \n",
      "\n",
      "              Outcome  Hormonal_Level_CA125  Pain_Level  Symptoms   BMI  \n",
      "0  Ongoing Monitoring                  1.92           2  Moderate  21.8  \n",
      "1    Surgery Required                  2.10           2      Mild  23.6  \n",
      "2    Surgery Required                  0.97           1      Mild  31.7  \n",
      "3    Surgery Required                  1.61           8  Moderate  19.1  \n",
      "4  Ongoing Monitoring                  1.56           3      Mild  22.6  \n"
     ]
    },
    {
     "data": {
      "text/plain": [
       "(100, 13)"
      ]
     },
     "execution_count": 3,
     "metadata": {},
     "output_type": "execute_result"
    }
   ],
   "source": [
    "import pandas as pd\n",
    "import numpy as np\n",
    "import matplotlib.pyplot as plt\n",
    "import seaborn as sns\n",
    "\n",
    "df = pd.read_csv(r'C:\\Users\\Kerry\\realistic_ovarian_cyst_dataset.csv')\n",
    "print(df.head())\n",
    "df.shape"
   ]
  },
  {
   "cell_type": "code",
   "execution_count": null,
   "id": "b0184a64-70a0-4f86-8062-372ee0745ebe",
   "metadata": {},
   "outputs": [],
   "source": []
  }
 ],
 "metadata": {
  "kernelspec": {
   "display_name": "Python 3 (ipykernel)",
   "language": "python",
   "name": "python3"
  },
  "language_info": {
   "codemirror_mode": {
    "name": "ipython",
    "version": 3
   },
   "file_extension": ".py",
   "mimetype": "text/x-python",
   "name": "python",
   "nbconvert_exporter": "python",
   "pygments_lexer": "ipython3",
   "version": "3.12.7"
  }
 },
 "nbformat": 4,
 "nbformat_minor": 5
}
