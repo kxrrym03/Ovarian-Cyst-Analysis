{
 "cells": [
  {
   "cell_type": "code",
   "execution_count": 3,
   "id": "264beb93-3f68-431e-bc29-9289b57acee1",
   "metadata": {},
   "outputs": [
    {
     "name": "stdout",
     "output_type": "stream",
     "text": [
      "  Patient_ID  Age     Cyst_Type  Initial_Cyst_Size_mm  Final_Cyst_Size_mm  \\\n",
      "0       P001   33  Endometrioma                  18.0                27.5   \n",
      "1       P002   38    Functional                  16.9                25.3   \n",
      "2       P003   44    Functional                  11.8                22.1   \n",
      "3       P004   52    Functional                  29.7                40.7   \n",
      "4       P005   24  Endometrioma                  27.9                40.1   \n",
      "\n",
      "   Months_Observed  Growth_Rate_mm_per_month    Treatment_Type  \\\n",
      "0                6                  1.895335  Hormonal Therapy   \n",
      "1                8                  1.195238  Hormonal Therapy   \n",
      "2                8                  1.462291  Watchful Waiting   \n",
      "3                8                  1.573181  Surgical Removal   \n",
      "4                9                  1.523355  Hormonal Therapy   \n",
      "\n",
      "              Outcome  Hormonal_Level_CA125  Pain_Level  Symptoms   BMI  \n",
      "0  Ongoing Monitoring                  1.92           2  Moderate  21.8  \n",
      "1    Surgery Required                  2.10           2      Mild  23.6  \n",
      "2    Surgery Required                  0.97           1      Mild  31.7  \n",
      "3    Surgery Required                  1.61           8  Moderate  19.1  \n",
      "4  Ongoing Monitoring                  1.56           3      Mild  22.6  \n"
     ]
    },
    {
     "data": {
      "text/plain": [
       "(100, 13)"
      ]
     },
     "execution_count": 3,
     "metadata": {},
     "output_type": "execute_result"
    }
   ],
   "source": [
    "import pandas as pd\n",
    "import numpy as np\n",
    "import matplotlib.pyplot as plt\n",
    "import seaborn as sns\n",
    "\n",
    "df = pd.read_csv(r'C:\\Users\\Kerry\\realistic_ovarian_cyst_dataset.csv')\n",
    "print(df.head())\n",
    "df.shape"
   ]
  },
  {
   "cell_type": "code",
   "execution_count": 4,
   "id": "b0184a64-70a0-4f86-8062-372ee0745ebe",
   "metadata": {},
   "outputs": [
    {
     "data": {
      "text/plain": [
       "Patient_ID                  0\n",
       "Age                         0\n",
       "Cyst_Type                   0\n",
       "Initial_Cyst_Size_mm        0\n",
       "Final_Cyst_Size_mm          0\n",
       "Months_Observed             0\n",
       "Growth_Rate_mm_per_month    0\n",
       "Treatment_Type              0\n",
       "Outcome                     0\n",
       "Hormonal_Level_CA125        0\n",
       "Pain_Level                  0\n",
       "Symptoms                    0\n",
       "BMI                         0\n",
       "dtype: int64"
      ]
     },
     "execution_count": 4,
     "metadata": {},
     "output_type": "execute_result"
    }
   ],
   "source": [
    "df.isnull().sum()"
   ]
  },
  {
   "cell_type": "code",
   "execution_count": 6,
   "id": "bf61b54a-e362-4699-bc83-cbce8efb75eb",
   "metadata": {},
   "outputs": [
    {
     "data": {
      "text/plain": [
       "0"
      ]
     },
     "execution_count": 6,
     "metadata": {},
     "output_type": "execute_result"
    }
   ],
   "source": [
    "df.duplicated().sum()"
   ]
  },
  {
   "cell_type": "code",
   "execution_count": 7,
   "id": "4940ecc3-1bd3-4241-9884-9aa7278726a1",
   "metadata": {},
   "outputs": [
    {
     "data": {
      "text/plain": [
       "<bound method DataFrame.info of    Patient_ID  Age     Cyst_Type  Initial_Cyst_Size_mm  Final_Cyst_Size_mm  \\\n",
       "0        P001   33  Endometrioma                  18.0                27.5   \n",
       "1        P002   38    Functional                  16.9                25.3   \n",
       "2        P003   44    Functional                  11.8                22.1   \n",
       "3        P004   52    Functional                  29.7                40.7   \n",
       "4        P005   24  Endometrioma                  27.9                40.1   \n",
       "..        ...  ...           ...                   ...                 ...   \n",
       "95       P096   50    Functional                  20.9                30.6   \n",
       "96       P097   43   Cystadenoma                  20.4                29.1   \n",
       "97       P098   53  Endometrioma                  17.9                29.1   \n",
       "98       P099   32    Functional                  23.1                29.4   \n",
       "99       P100   44    Functional                  26.1                30.8   \n",
       "\n",
       "    Months_Observed  Growth_Rate_mm_per_month    Treatment_Type  \\\n",
       "0                 6                  1.895335  Hormonal Therapy   \n",
       "1                 8                  1.195238  Hormonal Therapy   \n",
       "2                 8                  1.462291  Watchful Waiting   \n",
       "3                 8                  1.573181  Surgical Removal   \n",
       "4                 9                  1.523355  Hormonal Therapy   \n",
       "..              ...                       ...               ...   \n",
       "95                8                  1.388839  Surgical Removal   \n",
       "96                7                  1.458364  Hormonal Therapy   \n",
       "97                8                  1.598828  Surgical Removal   \n",
       "98                6                  1.260149  Hormonal Therapy   \n",
       "99                4                  1.578323  Surgical Removal   \n",
       "\n",
       "               Outcome  Hormonal_Level_CA125  Pain_Level  Symptoms   BMI  \n",
       "0   Ongoing Monitoring                  1.92           2  Moderate  21.8  \n",
       "1     Surgery Required                  2.10           2      Mild  23.6  \n",
       "2     Surgery Required                  0.97           1      Mild  31.7  \n",
       "3     Surgery Required                  1.61           8  Moderate  19.1  \n",
       "4   Ongoing Monitoring                  1.56           3      Mild  22.6  \n",
       "..                 ...                   ...         ...       ...   ...  \n",
       "95    Surgery Required                  1.01           2  Moderate  24.5  \n",
       "96            Resolved                  1.64           2  Moderate  22.2  \n",
       "97  Ongoing Monitoring                  2.06           5      Mild  18.1  \n",
       "98    Surgery Required                  1.08           4      Mild  22.8  \n",
       "99  Ongoing Monitoring                  1.32           4    Severe  26.9  \n",
       "\n",
       "[100 rows x 13 columns]>"
      ]
     },
     "execution_count": 7,
     "metadata": {},
     "output_type": "execute_result"
    }
   ],
   "source": [
    "df.info"
   ]
  },
  {
   "cell_type": "code",
   "execution_count": 8,
   "id": "0a745516-8f55-4fce-b087-f1c8ccb1794c",
   "metadata": {},
   "outputs": [
    {
     "data": {
      "text/html": [
       "<div>\n",
       "<style scoped>\n",
       "    .dataframe tbody tr th:only-of-type {\n",
       "        vertical-align: middle;\n",
       "    }\n",
       "\n",
       "    .dataframe tbody tr th {\n",
       "        vertical-align: top;\n",
       "    }\n",
       "\n",
       "    .dataframe thead th {\n",
       "        text-align: right;\n",
       "    }\n",
       "</style>\n",
       "<table border=\"1\" class=\"dataframe\">\n",
       "  <thead>\n",
       "    <tr style=\"text-align: right;\">\n",
       "      <th></th>\n",
       "      <th>Age</th>\n",
       "      <th>Initial_Cyst_Size_mm</th>\n",
       "      <th>Final_Cyst_Size_mm</th>\n",
       "      <th>Months_Observed</th>\n",
       "      <th>Growth_Rate_mm_per_month</th>\n",
       "      <th>Hormonal_Level_CA125</th>\n",
       "      <th>Pain_Level</th>\n",
       "      <th>BMI</th>\n",
       "    </tr>\n",
       "  </thead>\n",
       "  <tbody>\n",
       "    <tr>\n",
       "      <th>count</th>\n",
       "      <td>100.000000</td>\n",
       "      <td>100.000000</td>\n",
       "      <td>100.000000</td>\n",
       "      <td>100.000000</td>\n",
       "      <td>100.000000</td>\n",
       "      <td>100.000000</td>\n",
       "      <td>100.000000</td>\n",
       "      <td>100.000000</td>\n",
       "    </tr>\n",
       "    <tr>\n",
       "      <th>mean</th>\n",
       "      <td>37.740000</td>\n",
       "      <td>20.094000</td>\n",
       "      <td>28.605000</td>\n",
       "      <td>6.330000</td>\n",
       "      <td>1.591552</td>\n",
       "      <td>1.916000</td>\n",
       "      <td>4.620000</td>\n",
       "      <td>25.988000</td>\n",
       "    </tr>\n",
       "    <tr>\n",
       "      <th>std</th>\n",
       "      <td>11.905877</td>\n",
       "      <td>6.087291</td>\n",
       "      <td>6.818696</td>\n",
       "      <td>2.005321</td>\n",
       "      <td>0.534185</td>\n",
       "      <td>0.818863</td>\n",
       "      <td>2.561486</td>\n",
       "      <td>4.959295</td>\n",
       "    </tr>\n",
       "    <tr>\n",
       "      <th>min</th>\n",
       "      <td>18.000000</td>\n",
       "      <td>10.200000</td>\n",
       "      <td>14.600000</td>\n",
       "      <td>3.000000</td>\n",
       "      <td>0.506693</td>\n",
       "      <td>0.530000</td>\n",
       "      <td>1.000000</td>\n",
       "      <td>18.100000</td>\n",
       "    </tr>\n",
       "    <tr>\n",
       "      <th>25%</th>\n",
       "      <td>27.750000</td>\n",
       "      <td>14.475000</td>\n",
       "      <td>23.825000</td>\n",
       "      <td>5.000000</td>\n",
       "      <td>1.238947</td>\n",
       "      <td>1.260000</td>\n",
       "      <td>2.000000</td>\n",
       "      <td>21.625000</td>\n",
       "    </tr>\n",
       "    <tr>\n",
       "      <th>50%</th>\n",
       "      <td>39.000000</td>\n",
       "      <td>20.400000</td>\n",
       "      <td>29.150000</td>\n",
       "      <td>7.000000</td>\n",
       "      <td>1.629149</td>\n",
       "      <td>1.905000</td>\n",
       "      <td>4.500000</td>\n",
       "      <td>26.050000</td>\n",
       "    </tr>\n",
       "    <tr>\n",
       "      <th>75%</th>\n",
       "      <td>49.000000</td>\n",
       "      <td>25.400000</td>\n",
       "      <td>32.850000</td>\n",
       "      <td>8.000000</td>\n",
       "      <td>1.998515</td>\n",
       "      <td>2.502500</td>\n",
       "      <td>7.000000</td>\n",
       "      <td>30.300000</td>\n",
       "    </tr>\n",
       "    <tr>\n",
       "      <th>max</th>\n",
       "      <td>54.000000</td>\n",
       "      <td>30.000000</td>\n",
       "      <td>41.400000</td>\n",
       "      <td>9.000000</td>\n",
       "      <td>2.480683</td>\n",
       "      <td>3.480000</td>\n",
       "      <td>9.000000</td>\n",
       "      <td>35.000000</td>\n",
       "    </tr>\n",
       "  </tbody>\n",
       "</table>\n",
       "</div>"
      ],
      "text/plain": [
       "              Age  Initial_Cyst_Size_mm  Final_Cyst_Size_mm  Months_Observed  \\\n",
       "count  100.000000            100.000000          100.000000       100.000000   \n",
       "mean    37.740000             20.094000           28.605000         6.330000   \n",
       "std     11.905877              6.087291            6.818696         2.005321   \n",
       "min     18.000000             10.200000           14.600000         3.000000   \n",
       "25%     27.750000             14.475000           23.825000         5.000000   \n",
       "50%     39.000000             20.400000           29.150000         7.000000   \n",
       "75%     49.000000             25.400000           32.850000         8.000000   \n",
       "max     54.000000             30.000000           41.400000         9.000000   \n",
       "\n",
       "       Growth_Rate_mm_per_month  Hormonal_Level_CA125  Pain_Level         BMI  \n",
       "count                100.000000            100.000000  100.000000  100.000000  \n",
       "mean                   1.591552              1.916000    4.620000   25.988000  \n",
       "std                    0.534185              0.818863    2.561486    4.959295  \n",
       "min                    0.506693              0.530000    1.000000   18.100000  \n",
       "25%                    1.238947              1.260000    2.000000   21.625000  \n",
       "50%                    1.629149              1.905000    4.500000   26.050000  \n",
       "75%                    1.998515              2.502500    7.000000   30.300000  \n",
       "max                    2.480683              3.480000    9.000000   35.000000  "
      ]
     },
     "execution_count": 8,
     "metadata": {},
     "output_type": "execute_result"
    }
   ],
   "source": [
    "df.describe()"
   ]
  },
  {
   "cell_type": "code",
   "execution_count": 9,
   "id": "01e138de-5f25-4179-bc3d-3c2ca6ea7689",
   "metadata": {},
   "outputs": [
    {
     "data": {
      "image/png": "[encoded data removed]",
      "text/plain": [
       "<Figure size 640x480 with 1 Axes>"
      ]
     },
     "metadata": {},
     "output_type": "display_data"
    }
   ],
   "source": [
    "sns.countplot(data=df, x='Cyst_Type')\n",
    "plt.title('Count of Cyst Type')\n",
    "plt.xticks(rotation=45)\n",
    "plt.show()"
   ]
  },
  {
   "cell_type": "code",
   "execution_count": 10,
   "id": "519d2d68-d3f7-49ed-8c6b-b24b66db1212",
   "metadata": {},
   "outputs": [
    {
     "data": {
      "image/png": "[encoded data removed]",
      "text/plain": [
       "<Figure size 640x480 with 1 Axes>"
      ]
     },
     "metadata": {},
     "output_type": "display_data"
    }
   ],
   "source": [
    "sns.countplot(data=df, x='Treatment_Type')\n",
    "plt.title('Count of Treatment Type')\n",
    "plt.xticks(rotation=45)\n",
    "plt.show()"
   ]
  },
  {
   "cell_type": "code",
   "execution_count": null,
   "id": "cb88933a-d7ef-4ca8-931d-a4c84a2d0c0e",
   "metadata": {},
   "outputs": [],
   "source": []
  }
 ],
 "metadata": {
  "kernelspec": {
   "display_name": "Python 3 (ipykernel)",
   "language": "python",
   "name": "python3"
  },
  "language_info": {
   "codemirror_mode": {
    "name": "ipython",
    "version": 3
   },
   "file_extension": ".py",
   "mimetype": "text/x-python",
   "name": "python",
   "nbconvert_exporter": "python",
   "pygments_lexer": "ipython3",
   "version": "3.12.7"
  }
 },
 "nbformat": 4,
 "nbformat_minor": 5
}
